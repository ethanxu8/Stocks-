{
 "cells": [
  {
   "cell_type": "code",
   "execution_count": null,
   "id": "95896200-10eb-4ae0-8439-f21188a4d571",
   "metadata": {},
   "outputs": [],
   "source": [
    "import pandas as pd"
   ]
  },
  {
   "cell_type": "code",
   "execution_count": null,
   "id": "151a3901-24bc-45a1-a070-8269e045acd4",
   "metadata": {},
   "outputs": [],
   "source": [
    "\n",
    "facebook = pd.read_csv('FB.csv')\n",
    "google = pd.read_csv(\"GOOGL.csv\")\n",
    "nvidia = pd.read_csv(\"NVDA.csv\")\n",
    "tesla = pd.read_csv('TSLA.csv')\n",
    "twitter = pd.read_csv('TWTR.csv')"
   ]
  },
  {
   "cell_type": "code",
   "execution_count": null,
   "id": "631834cd-50af-472f-a37a-0581b997c356",
   "metadata": {},
   "outputs": [],
   "source": [
    "desktop_path = '/Users/ethanxu/Desktop/Ethan Xu/'\n",
    "file_path = desktop_path + 'AAPL.csv'\n",
    "\n",
    "# Reading CSV file\n",
    "apple = pd.read_csv(file_path)"
   ]
  },
  {
   "cell_type": "code",
   "execution_count": null,
   "id": "5c5d339a-5bd7-4a38-9acc-150791317dc4",
   "metadata": {},
   "outputs": [],
   "source": [
    "apple.head()"
   ]
  }
 ],
 "metadata": {
  "kernelspec": {
   "display_name": "Python 3 (ipykernel)",
   "language": "python",
   "name": "python3"
  },
  "language_info": {
   "codemirror_mode": {
    "name": "ipython",
    "version": 3
   },
   "file_extension": ".py",
   "mimetype": "text/x-python",
   "name": "python",
   "nbconvert_exporter": "python",
   "pygments_lexer": "ipython3",
   "version": "3.12.2"
  }
 },
 "nbformat": 4,
 "nbformat_minor": 5
}
